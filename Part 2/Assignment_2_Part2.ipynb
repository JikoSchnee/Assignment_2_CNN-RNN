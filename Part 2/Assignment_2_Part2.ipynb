{
 "cells": [
  {
   "cell_type": "markdown",
   "source": [
    "# Part2\n",
    "## Task1\n",
    "Implemented in cnn_model.py and cnn_train.py\n",
    "## Task2"
   ],
   "metadata": {
    "collapsed": false
   },
   "id": "41ec22b470b05190"
  },
  {
   "cell_type": "code",
   "execution_count": null,
   "outputs": [
    {
     "name": "stdout",
     "output_type": "stream",
     "text": [
      "Files already downloaded and verified\n",
      "Files already downloaded and verified\n",
      "Starting training loop...\n",
      "Epoch 1/500\n",
      "Epoch [1/500], Loss: 1.5230791863537871, Accuracy: 0.4390195137555982\n",
      "Epoch 2/500\n"
     ]
    }
   ],
   "source": [
    "from cnn_train import train, plot_metrics\n",
    "import argparse\n",
    "FLAGS = argparse.Namespace(\n",
    "    learning_rate=1e-4,\n",
    "    max_steps=500,  # 设置训练的 epoch 数\n",
    "    batch_size=32,\n",
    "    eval_freq=50,  # 每 50 个 epoch 评估一次\n",
    "    data_dir='./data'  # 你数据集的路径\n",
    ")\n",
    "\n",
    "# # 将 FLAGS 设置为全局变量\n",
    "# train.FLAGS = FLAGS\n",
    "\n",
    "# 调用训练函数\n",
    "loss_history, accuracy_history = train(FLAGS)\n",
    "\n",
    "# 绘制损失和准确率曲线\n",
    "plot_metrics(loss_history, accuracy_history)"
   ],
   "metadata": {
    "collapsed": false,
    "is_executing": true,
    "ExecuteTime": {
     "start_time": "2024-11-26T14:58:11.777806100Z"
    }
   },
   "id": "497bccf9933647a2"
  },
  {
   "cell_type": "code",
   "execution_count": null,
   "outputs": [],
   "source": [
    "loss_history, accuracy_history = train()\n",
    "plot_metrics(loss_history, accuracy_history)"
   ],
   "metadata": {
    "collapsed": false,
    "ExecuteTime": {
     "end_time": "2024-11-26T14:53:21.884879200Z",
     "start_time": "2024-11-26T14:53:21.883882200Z"
    }
   },
   "id": "f07cf844dc528325"
  }
 ],
 "metadata": {
  "kernelspec": {
   "display_name": "Python 3",
   "language": "python",
   "name": "python3"
  },
  "language_info": {
   "codemirror_mode": {
    "name": "ipython",
    "version": 2
   },
   "file_extension": ".py",
   "mimetype": "text/x-python",
   "name": "python",
   "nbconvert_exporter": "python",
   "pygments_lexer": "ipython2",
   "version": "2.7.6"
  }
 },
 "nbformat": 4,
 "nbformat_minor": 5
}
