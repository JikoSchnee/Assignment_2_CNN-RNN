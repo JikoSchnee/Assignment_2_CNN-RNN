{
 "cells": [
  {
   "cell_type": "markdown",
   "source": [
    "# Part2\n",
    "## Task1\n",
    "Implemented in cnn_model.py and cnn_train.py\n",
    "## Task2"
   ],
   "metadata": {
    "collapsed": false
   },
   "id": "41ec22b470b05190"
  },
  {
   "cell_type": "code",
   "execution_count": 5,
   "outputs": [
    {
     "ename": "AttributeError",
     "evalue": "'NoneType' object has no attribute 'data_dir'",
     "output_type": "error",
     "traceback": [
      "\u001B[1;31m---------------------------------------------------------------------------\u001B[0m",
      "\u001B[1;31mAttributeError\u001B[0m                            Traceback (most recent call last)",
      "Cell \u001B[1;32mIn[5], line 15\u001B[0m\n\u001B[0;32m     12\u001B[0m train\u001B[38;5;241m.\u001B[39mFLAGS \u001B[38;5;241m=\u001B[39m FLAGS\n\u001B[0;32m     14\u001B[0m \u001B[38;5;66;03m# 调用训练函数\u001B[39;00m\n\u001B[1;32m---> 15\u001B[0m loss_history, accuracy_history \u001B[38;5;241m=\u001B[39m \u001B[43mtrain\u001B[49m\u001B[43m(\u001B[49m\u001B[43m)\u001B[49m\n\u001B[0;32m     17\u001B[0m \u001B[38;5;66;03m# 绘制损失和准确率曲线\u001B[39;00m\n\u001B[0;32m     18\u001B[0m plot_metrics(loss_history, accuracy_history)\n",
      "File \u001B[1;32m~\\Desktop\\学习\\大四上\\DEEPLEARNING\\Assignment_2_CNN&RNN\\Part 2\\cnn_train.py:54\u001B[0m, in \u001B[0;36mtrain\u001B[1;34m()\u001B[0m\n\u001B[0;32m     47\u001B[0m \u001B[38;5;66;03m# YOUR TRAINING CODE GOES HERE\u001B[39;00m\n\u001B[0;32m     48\u001B[0m \u001B[38;5;66;03m# 数据预处理和加载\u001B[39;00m\n\u001B[0;32m     49\u001B[0m transform \u001B[38;5;241m=\u001B[39m transforms\u001B[38;5;241m.\u001B[39mCompose([\n\u001B[0;32m     50\u001B[0m     transforms\u001B[38;5;241m.\u001B[39mToTensor(),\n\u001B[0;32m     51\u001B[0m     transforms\u001B[38;5;241m.\u001B[39mNormalize((\u001B[38;5;241m0.5\u001B[39m, \u001B[38;5;241m0.5\u001B[39m, \u001B[38;5;241m0.5\u001B[39m), (\u001B[38;5;241m0.5\u001B[39m, \u001B[38;5;241m0.5\u001B[39m, \u001B[38;5;241m0.5\u001B[39m))\n\u001B[0;32m     52\u001B[0m ])\n\u001B[1;32m---> 54\u001B[0m trainset \u001B[38;5;241m=\u001B[39m datasets\u001B[38;5;241m.\u001B[39mCIFAR10(root\u001B[38;5;241m=\u001B[39m\u001B[43mFLAGS\u001B[49m\u001B[38;5;241;43m.\u001B[39;49m\u001B[43mdata_dir\u001B[49m, train\u001B[38;5;241m=\u001B[39m\u001B[38;5;28;01mTrue\u001B[39;00m, download\u001B[38;5;241m=\u001B[39m\u001B[38;5;28;01mTrue\u001B[39;00m, transform\u001B[38;5;241m=\u001B[39mtransform)\n\u001B[0;32m     55\u001B[0m trainloader \u001B[38;5;241m=\u001B[39m DataLoader(trainset, batch_size\u001B[38;5;241m=\u001B[39mFLAGS\u001B[38;5;241m.\u001B[39mbatch_size, shuffle\u001B[38;5;241m=\u001B[39m\u001B[38;5;28;01mTrue\u001B[39;00m)\n\u001B[0;32m     57\u001B[0m testset \u001B[38;5;241m=\u001B[39m datasets\u001B[38;5;241m.\u001B[39mCIFAR10(root\u001B[38;5;241m=\u001B[39mFLAGS\u001B[38;5;241m.\u001B[39mdata_dir, train\u001B[38;5;241m=\u001B[39m\u001B[38;5;28;01mFalse\u001B[39;00m, download\u001B[38;5;241m=\u001B[39m\u001B[38;5;28;01mTrue\u001B[39;00m, transform\u001B[38;5;241m=\u001B[39mtransform)\n",
      "\u001B[1;31mAttributeError\u001B[0m: 'NoneType' object has no attribute 'data_dir'"
     ]
    }
   ],
   "source": [
    "from cnn_train import train, plot_metrics\n",
    "import argparse\n",
    "FLAGS = argparse.Namespace(\n",
    "    learning_rate=1e-4,\n",
    "    max_steps=500,  # 设置训练的 epoch 数\n",
    "    batch_size=32,\n",
    "    eval_freq=50,  # 每 50 个 epoch 评估一次\n",
    "    data_dir='./data'  # 你数据集的路径\n",
    ")\n",
    "\n",
    "# 将 FLAGS 设置为全局变量\n",
    "train.FLAGS = FLAGS\n",
    "\n",
    "# 调用训练函数\n",
    "loss_history, accuracy_history = train()\n",
    "\n",
    "# 绘制损失和准确率曲线\n",
    "plot_metrics(loss_history, accuracy_history)"
   ],
   "metadata": {
    "collapsed": false,
    "ExecuteTime": {
     "end_time": "2024-11-26T13:28:34.528349200Z",
     "start_time": "2024-11-26T13:28:34.490424Z"
    }
   },
   "id": "497bccf9933647a2"
  },
  {
   "cell_type": "code",
   "execution_count": null,
   "outputs": [],
   "source": [
    "loss_history, accuracy_history = train()\n",
    "plot_metrics(loss_history, accuracy_history)"
   ],
   "metadata": {
    "collapsed": false,
    "ExecuteTime": {
     "end_time": "2024-11-26T13:28:34.532339600Z",
     "start_time": "2024-11-26T13:28:34.530345Z"
    }
   },
   "id": "f07cf844dc528325"
  }
 ],
 "metadata": {
  "kernelspec": {
   "display_name": "Python 3",
   "language": "python",
   "name": "python3"
  },
  "language_info": {
   "codemirror_mode": {
    "name": "ipython",
    "version": 2
   },
   "file_extension": ".py",
   "mimetype": "text/x-python",
   "name": "python",
   "nbconvert_exporter": "python",
   "pygments_lexer": "ipython2",
   "version": "2.7.6"
  }
 },
 "nbformat": 4,
 "nbformat_minor": 5
}
