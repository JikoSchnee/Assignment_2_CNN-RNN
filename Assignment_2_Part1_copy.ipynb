{
 "cells": [
  {
   "cell_type": "markdown",
   "source": [
    "# Assignment_2\n",
    "## Part1\n",
    "### Task 1 & 2"
   ],
   "metadata": {
    "collapsed": false
   },
   "id": "8ac71169c72c98de"
  },
  {
   "cell_type": "code",
   "execution_count": 1,
   "outputs": [
    {
     "ename": "ModuleNotFoundError",
     "evalue": "No module named 'pytorch_mlp'",
     "output_type": "error",
     "traceback": [
      "\u001B[1;31m---------------------------------------------------------------------------\u001B[0m",
      "\u001B[1;31mModuleNotFoundError\u001B[0m                       Traceback (most recent call last)",
      "Cell \u001B[1;32mIn[1], line 1\u001B[0m\n\u001B[1;32m----> 1\u001B[0m \u001B[38;5;28;01mfrom\u001B[39;00m \u001B[38;5;21;01mPart1\u001B[39;00m\u001B[38;5;21;01m.\u001B[39;00m\u001B[38;5;21;01mpytorch_train_mlp\u001B[39;00m \u001B[38;5;28;01mimport\u001B[39;00m train \u001B[38;5;28;01mas\u001B[39;00m train_pytorch\n\u001B[0;32m      2\u001B[0m \u001B[38;5;28;01mfrom\u001B[39;00m \u001B[38;5;21;01mPart1\u001B[39;00m\u001B[38;5;21;01m.\u001B[39;00m\u001B[38;5;21;01mtrain_mlp_numpy\u001B[39;00m \u001B[38;5;28;01mimport\u001B[39;00m train \u001B[38;5;28;01mas\u001B[39;00m train_numpy\n\u001B[0;32m      4\u001B[0m dnn_hidden_units \u001B[38;5;241m=\u001B[39m \u001B[38;5;124m'\u001B[39m\u001B[38;5;124m20\u001B[39m\u001B[38;5;124m'\u001B[39m\n",
      "File \u001B[1;32m~\\Desktop\\学习\\大四上\\DEEPLEARNING\\Assignment_2_CNN&RNN\\Part1\\pytorch_train_mlp.py:10\u001B[0m\n\u001B[0;32m      8\u001B[0m \u001B[38;5;28;01mfrom\u001B[39;00m \u001B[38;5;21;01mtorch\u001B[39;00m\u001B[38;5;21;01m.\u001B[39;00m\u001B[38;5;21;01mutils\u001B[39;00m\u001B[38;5;21;01m.\u001B[39;00m\u001B[38;5;21;01mdata\u001B[39;00m \u001B[38;5;28;01mimport\u001B[39;00m DataLoader, TensorDataset\n\u001B[0;32m      9\u001B[0m \u001B[38;5;28;01mfrom\u001B[39;00m \u001B[38;5;21;01msklearn\u001B[39;00m\u001B[38;5;21;01m.\u001B[39;00m\u001B[38;5;21;01mdatasets\u001B[39;00m \u001B[38;5;28;01mimport\u001B[39;00m make_moons\n\u001B[1;32m---> 10\u001B[0m \u001B[38;5;28;01mfrom\u001B[39;00m \u001B[38;5;21;01mpytorch_mlp\u001B[39;00m \u001B[38;5;28;01mimport\u001B[39;00m MLP\n\u001B[0;32m     12\u001B[0m \u001B[38;5;66;03m# Default constants\u001B[39;00m\n\u001B[0;32m     13\u001B[0m DNN_HIDDEN_UNITS_DEFAULT \u001B[38;5;241m=\u001B[39m \u001B[38;5;124m'\u001B[39m\u001B[38;5;124m20\u001B[39m\u001B[38;5;124m'\u001B[39m\n",
      "\u001B[1;31mModuleNotFoundError\u001B[0m: No module named 'pytorch_mlp'"
     ]
    }
   ],
   "source": [
    "from Part1.pytorch_train_mlp import train as train_pytorch\n",
    "from Part1.train_mlp_numpy import train as train_numpy\n",
    "\n",
    "dnn_hidden_units = '20'\n",
    "learning_rate = 1e-3\n",
    "max_steps = 500\n",
    "eval_freq = 10\n",
    "use_stochastic = False"
   ],
   "metadata": {
    "collapsed": false,
    "ExecuteTime": {
     "end_time": "2024-11-26T07:00:43.778307800Z",
     "start_time": "2024-11-26T07:00:40.334007700Z"
    }
   },
   "id": "b875abe3e0e667ec"
  },
  {
   "cell_type": "code",
   "execution_count": null,
   "outputs": [],
   "source": [
    "import numpy as np\n",
    "from matplotlib import pyplot as plt\n",
    "\n",
    "numpy_train_accuracies, numpy_test_accuracies = train_numpy(dnn_hidden_units, learning_rate, max_steps, eval_freq, use_stochastic)\n",
    "pytorch_train_accuracies, pytorch_test_accuracies = train_pytorch(dnn_hidden_units, learning_rate, max_steps, eval_freq)\n"
   ],
   "metadata": {
    "collapsed": false,
    "ExecuteTime": {
     "end_time": "2024-11-26T07:00:43.782299Z",
     "start_time": "2024-11-26T07:00:43.781301300Z"
    }
   },
   "id": "f8e286ee31327066"
  },
  {
   "cell_type": "code",
   "execution_count": null,
   "outputs": [],
   "source": [
    "pytorch_train_accuracies = np.array(pytorch_train_accuracies) * 100\n",
    "pytorch_test_accuracies = np.array(pytorch_test_accuracies) * 100\n",
    "\n",
    "# pytorch_train_accuracies = [accuracy * 100 for accuracy in pytorch_train_accuracies]\n",
    "# pytorch_test_accuracies = [accuracy * 100 for accuracy in pytorch_test_accuracies]\n",
    "\n",
    "# 绘制训练和测试准确率曲线\n",
    "plt.figure(figsize=(12, 6))\n",
    "plt.plot(np.arange(len(numpy_train_accuracies)) * eval_freq, numpy_train_accuracies, label='Numpy Training Accuracy')\n",
    "plt.plot(np.arange(len(numpy_test_accuracies)) * eval_freq, numpy_test_accuracies, label='Numpy Test Accuracy')\n",
    "plt.plot(np.arange(len(pytorch_train_accuracies)) * eval_freq, pytorch_train_accuracies, label='Pytorch Training Accuracy')\n",
    "plt.plot(np.arange(len(pytorch_test_accuracies)) * eval_freq, pytorch_test_accuracies, label='Pytorch Test Accuracy')\n",
    "\n",
    "plt.title('Training and Test Accuracy Curves')\n",
    "plt.xlabel('Epochs')\n",
    "plt.ylabel('Accuracy (%)')\n",
    "plt.legend()\n",
    "plt.grid()\n",
    "plt.show()"
   ],
   "metadata": {
    "collapsed": false,
    "ExecuteTime": {
     "start_time": "2024-11-26T07:00:43.783295900Z"
    }
   },
   "id": "668a5a06528dfbe8"
  },
  {
   "cell_type": "markdown",
   "source": [
    "### Task 3"
   ],
   "metadata": {
    "collapsed": false
   },
   "id": "f0555625f9deefde"
  },
  {
   "cell_type": "code",
   "execution_count": null,
   "outputs": [],
   "source": [],
   "metadata": {
    "collapsed": false,
    "ExecuteTime": {
     "start_time": "2024-11-26T07:00:43.784293100Z"
    }
   },
   "id": "3a29d3b047a17b08"
  }
 ],
 "metadata": {
  "kernelspec": {
   "display_name": "Python 3",
   "language": "python",
   "name": "python3"
  },
  "language_info": {
   "codemirror_mode": {
    "name": "ipython",
    "version": 2
   },
   "file_extension": ".py",
   "mimetype": "text/x-python",
   "name": "python",
   "nbconvert_exporter": "python",
   "pygments_lexer": "ipython2",
   "version": "2.7.6"
  }
 },
 "nbformat": 4,
 "nbformat_minor": 5
}
